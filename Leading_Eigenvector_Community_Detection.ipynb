{
 "cells": [
  {
   "cell_type": "markdown",
   "id": "3c37e70c",
   "metadata": {},
   "source": [
    "## Prepare Data "
   ]
  },
  {
   "cell_type": "code",
   "execution_count": 1,
   "id": "c9973396",
   "metadata": {},
   "outputs": [],
   "source": [
    "#import libraries\n",
    "import pandas as pd\n",
    "import igraph as ig\n",
    "import numpy as np"
   ]
  },
  {
   "cell_type": "code",
   "execution_count": 2,
   "id": "422ea8d1",
   "metadata": {},
   "outputs": [
    {
     "data": {
      "text/html": [
       "<div>\n",
       "<style scoped>\n",
       "    .dataframe tbody tr th:only-of-type {\n",
       "        vertical-align: middle;\n",
       "    }\n",
       "\n",
       "    .dataframe tbody tr th {\n",
       "        vertical-align: top;\n",
       "    }\n",
       "\n",
       "    .dataframe thead th {\n",
       "        text-align: right;\n",
       "    }\n",
       "</style>\n",
       "<table border=\"1\" class=\"dataframe\">\n",
       "  <thead>\n",
       "    <tr style=\"text-align: right;\">\n",
       "      <th></th>\n",
       "      <th>tweet_id</th>\n",
       "      <th>user_id_retweet_df</th>\n",
       "      <th>user_id_tweet_df</th>\n",
       "      <th>news_id</th>\n",
       "      <th>is_fake_news</th>\n",
       "    </tr>\n",
       "  </thead>\n",
       "  <tbody>\n",
       "    <tr>\n",
       "      <th>0</th>\n",
       "      <td>1033706162695356417</td>\n",
       "      <td>7.873112e+08</td>\n",
       "      <td>4.335085e+07</td>\n",
       "      <td>politifact99</td>\n",
       "      <td>0.0</td>\n",
       "    </tr>\n",
       "    <tr>\n",
       "      <th>1</th>\n",
       "      <td>1033706162695356417</td>\n",
       "      <td>7.873112e+08</td>\n",
       "      <td>4.335085e+07</td>\n",
       "      <td>politifact340</td>\n",
       "      <td>0.0</td>\n",
       "    </tr>\n",
       "    <tr>\n",
       "      <th>2</th>\n",
       "      <td>1035580865160638464</td>\n",
       "      <td>3.338247e+09</td>\n",
       "      <td>1.629771e+07</td>\n",
       "      <td>politifact99</td>\n",
       "      <td>0.0</td>\n",
       "    </tr>\n",
       "    <tr>\n",
       "      <th>3</th>\n",
       "      <td>1035580865160638464</td>\n",
       "      <td>3.338247e+09</td>\n",
       "      <td>1.629771e+07</td>\n",
       "      <td>politifact340</td>\n",
       "      <td>0.0</td>\n",
       "    </tr>\n",
       "    <tr>\n",
       "      <th>4</th>\n",
       "      <td>934206237708865537</td>\n",
       "      <td>7.543102e+17</td>\n",
       "      <td>5.820642e+06</td>\n",
       "      <td>politifact99</td>\n",
       "      <td>0.0</td>\n",
       "    </tr>\n",
       "    <tr>\n",
       "      <th>...</th>\n",
       "      <td>...</td>\n",
       "      <td>...</td>\n",
       "      <td>...</td>\n",
       "      <td>...</td>\n",
       "      <td>...</td>\n",
       "    </tr>\n",
       "    <tr>\n",
       "      <th>573632</th>\n",
       "      <td>813192381583466496</td>\n",
       "      <td>NaN</td>\n",
       "      <td>3.001448e+09</td>\n",
       "      <td>politifact13600</td>\n",
       "      <td>1.0</td>\n",
       "    </tr>\n",
       "    <tr>\n",
       "      <th>573633</th>\n",
       "      <td>812814063763918848</td>\n",
       "      <td>NaN</td>\n",
       "      <td>5.256945e+08</td>\n",
       "      <td>politifact13600</td>\n",
       "      <td>1.0</td>\n",
       "    </tr>\n",
       "    <tr>\n",
       "      <th>573634</th>\n",
       "      <td>918510122363744257</td>\n",
       "      <td>NaN</td>\n",
       "      <td>1.525687e+09</td>\n",
       "      <td>politifact14621</td>\n",
       "      <td>1.0</td>\n",
       "    </tr>\n",
       "    <tr>\n",
       "      <th>573635</th>\n",
       "      <td>917522953390223366</td>\n",
       "      <td>NaN</td>\n",
       "      <td>7.889922e+17</td>\n",
       "      <td>politifact14621</td>\n",
       "      <td>1.0</td>\n",
       "    </tr>\n",
       "    <tr>\n",
       "      <th>573636</th>\n",
       "      <td>917849762417831936</td>\n",
       "      <td>NaN</td>\n",
       "      <td>9.489712e+08</td>\n",
       "      <td>politifact14621</td>\n",
       "      <td>1.0</td>\n",
       "    </tr>\n",
       "  </tbody>\n",
       "</table>\n",
       "<p>573637 rows × 5 columns</p>\n",
       "</div>"
      ],
      "text/plain": [
       "                   tweet_id  user_id_retweet_df  user_id_tweet_df  \\\n",
       "0       1033706162695356417        7.873112e+08      4.335085e+07   \n",
       "1       1033706162695356417        7.873112e+08      4.335085e+07   \n",
       "2       1035580865160638464        3.338247e+09      1.629771e+07   \n",
       "3       1035580865160638464        3.338247e+09      1.629771e+07   \n",
       "4        934206237708865537        7.543102e+17      5.820642e+06   \n",
       "...                     ...                 ...               ...   \n",
       "573632   813192381583466496                 NaN      3.001448e+09   \n",
       "573633   812814063763918848                 NaN      5.256945e+08   \n",
       "573634   918510122363744257                 NaN      1.525687e+09   \n",
       "573635   917522953390223366                 NaN      7.889922e+17   \n",
       "573636   917849762417831936                 NaN      9.489712e+08   \n",
       "\n",
       "                news_id  is_fake_news  \n",
       "0          politifact99           0.0  \n",
       "1         politifact340           0.0  \n",
       "2          politifact99           0.0  \n",
       "3         politifact340           0.0  \n",
       "4          politifact99           0.0  \n",
       "...                 ...           ...  \n",
       "573632  politifact13600           1.0  \n",
       "573633  politifact13600           1.0  \n",
       "573634  politifact14621           1.0  \n",
       "573635  politifact14621           1.0  \n",
       "573636  politifact14621           1.0  \n",
       "\n",
       "[573637 rows x 5 columns]"
      ]
     },
     "execution_count": 2,
     "metadata": {},
     "output_type": "execute_result"
    }
   ],
   "source": [
    "df = pd.read_csv('tweet_retweet_network.csv')\n",
    "df"
   ]
  },
  {
   "cell_type": "code",
   "execution_count": 3,
   "id": "5be9b30a",
   "metadata": {},
   "outputs": [],
   "source": [
    "df_fake = df[df['is_fake_news'] == 1.0]\n",
    "df_real = df[df['is_fake_news'] == 0.0]"
   ]
  },
  {
   "cell_type": "code",
   "execution_count": 4,
   "id": "da1fdeee",
   "metadata": {},
   "outputs": [],
   "source": [
    "df_net_all = df[['user_id_retweet_df', 'user_id_tweet_df']].dropna()\n",
    "df_net_fake = df_fake[['user_id_retweet_df', 'user_id_tweet_df']].dropna()\n",
    "df_net_real = df_real[['user_id_retweet_df', 'user_id_tweet_df']].dropna()"
   ]
  },
  {
   "cell_type": "code",
   "execution_count": 5,
   "id": "428dd65c",
   "metadata": {},
   "outputs": [
    {
     "data": {
      "text/html": [
       "<div>\n",
       "<style scoped>\n",
       "    .dataframe tbody tr th:only-of-type {\n",
       "        vertical-align: middle;\n",
       "    }\n",
       "\n",
       "    .dataframe tbody tr th {\n",
       "        vertical-align: top;\n",
       "    }\n",
       "\n",
       "    .dataframe thead th {\n",
       "        text-align: right;\n",
       "    }\n",
       "</style>\n",
       "<table border=\"1\" class=\"dataframe\">\n",
       "  <thead>\n",
       "    <tr style=\"text-align: right;\">\n",
       "      <th></th>\n",
       "      <th>user_id_retweet_df</th>\n",
       "      <th>user_id_tweet_df</th>\n",
       "    </tr>\n",
       "  </thead>\n",
       "  <tbody>\n",
       "    <tr>\n",
       "      <th>0</th>\n",
       "      <td>7.873112e+08</td>\n",
       "      <td>4.335085e+07</td>\n",
       "    </tr>\n",
       "    <tr>\n",
       "      <th>1</th>\n",
       "      <td>7.873112e+08</td>\n",
       "      <td>4.335085e+07</td>\n",
       "    </tr>\n",
       "    <tr>\n",
       "      <th>2</th>\n",
       "      <td>3.338247e+09</td>\n",
       "      <td>1.629771e+07</td>\n",
       "    </tr>\n",
       "    <tr>\n",
       "      <th>3</th>\n",
       "      <td>3.338247e+09</td>\n",
       "      <td>1.629771e+07</td>\n",
       "    </tr>\n",
       "    <tr>\n",
       "      <th>4</th>\n",
       "      <td>7.543102e+17</td>\n",
       "      <td>5.820642e+06</td>\n",
       "    </tr>\n",
       "    <tr>\n",
       "      <th>...</th>\n",
       "      <td>...</td>\n",
       "      <td>...</td>\n",
       "    </tr>\n",
       "    <tr>\n",
       "      <th>89022</th>\n",
       "      <td>1.496571e+09</td>\n",
       "      <td>7.960258e+17</td>\n",
       "    </tr>\n",
       "    <tr>\n",
       "      <th>89023</th>\n",
       "      <td>9.816488e+08</td>\n",
       "      <td>7.848257e+17</td>\n",
       "    </tr>\n",
       "    <tr>\n",
       "      <th>89024</th>\n",
       "      <td>7.200451e+08</td>\n",
       "      <td>2.435832e+07</td>\n",
       "    </tr>\n",
       "    <tr>\n",
       "      <th>89025</th>\n",
       "      <td>8.990504e+08</td>\n",
       "      <td>1.342402e+08</td>\n",
       "    </tr>\n",
       "    <tr>\n",
       "      <th>89026</th>\n",
       "      <td>7.376728e+17</td>\n",
       "      <td>7.313946e+17</td>\n",
       "    </tr>\n",
       "  </tbody>\n",
       "</table>\n",
       "<p>86618 rows × 2 columns</p>\n",
       "</div>"
      ],
      "text/plain": [
       "       user_id_retweet_df  user_id_tweet_df\n",
       "0            7.873112e+08      4.335085e+07\n",
       "1            7.873112e+08      4.335085e+07\n",
       "2            3.338247e+09      1.629771e+07\n",
       "3            3.338247e+09      1.629771e+07\n",
       "4            7.543102e+17      5.820642e+06\n",
       "...                   ...               ...\n",
       "89022        1.496571e+09      7.960258e+17\n",
       "89023        9.816488e+08      7.848257e+17\n",
       "89024        7.200451e+08      2.435832e+07\n",
       "89025        8.990504e+08      1.342402e+08\n",
       "89026        7.376728e+17      7.313946e+17\n",
       "\n",
       "[86618 rows x 2 columns]"
      ]
     },
     "execution_count": 5,
     "metadata": {},
     "output_type": "execute_result"
    }
   ],
   "source": [
    "df_net_all"
   ]
  },
  {
   "cell_type": "code",
   "execution_count": 6,
   "id": "8337b183",
   "metadata": {},
   "outputs": [
    {
     "data": {
      "text/html": [
       "<div>\n",
       "<style scoped>\n",
       "    .dataframe tbody tr th:only-of-type {\n",
       "        vertical-align: middle;\n",
       "    }\n",
       "\n",
       "    .dataframe tbody tr th {\n",
       "        vertical-align: top;\n",
       "    }\n",
       "\n",
       "    .dataframe thead th {\n",
       "        text-align: right;\n",
       "    }\n",
       "</style>\n",
       "<table border=\"1\" class=\"dataframe\">\n",
       "  <thead>\n",
       "    <tr style=\"text-align: right;\">\n",
       "      <th></th>\n",
       "      <th>user_id_retweet_df</th>\n",
       "      <th>user_id_tweet_df</th>\n",
       "    </tr>\n",
       "  </thead>\n",
       "  <tbody>\n",
       "    <tr>\n",
       "      <th>4125</th>\n",
       "      <td>8.856920e+17</td>\n",
       "      <td>3.974499e+07</td>\n",
       "    </tr>\n",
       "    <tr>\n",
       "      <th>4161</th>\n",
       "      <td>1.917218e+09</td>\n",
       "      <td>8.277065e+07</td>\n",
       "    </tr>\n",
       "    <tr>\n",
       "      <th>4235</th>\n",
       "      <td>2.559283e+08</td>\n",
       "      <td>2.147477e+07</td>\n",
       "    </tr>\n",
       "    <tr>\n",
       "      <th>4329</th>\n",
       "      <td>8.222716e+17</td>\n",
       "      <td>8.247972e+17</td>\n",
       "    </tr>\n",
       "    <tr>\n",
       "      <th>4379</th>\n",
       "      <td>1.759702e+07</td>\n",
       "      <td>1.109180e+08</td>\n",
       "    </tr>\n",
       "    <tr>\n",
       "      <th>...</th>\n",
       "      <td>...</td>\n",
       "      <td>...</td>\n",
       "    </tr>\n",
       "    <tr>\n",
       "      <th>89022</th>\n",
       "      <td>1.496571e+09</td>\n",
       "      <td>7.960258e+17</td>\n",
       "    </tr>\n",
       "    <tr>\n",
       "      <th>89023</th>\n",
       "      <td>9.816488e+08</td>\n",
       "      <td>7.848257e+17</td>\n",
       "    </tr>\n",
       "    <tr>\n",
       "      <th>89024</th>\n",
       "      <td>7.200451e+08</td>\n",
       "      <td>2.435832e+07</td>\n",
       "    </tr>\n",
       "    <tr>\n",
       "      <th>89025</th>\n",
       "      <td>8.990504e+08</td>\n",
       "      <td>1.342402e+08</td>\n",
       "    </tr>\n",
       "    <tr>\n",
       "      <th>89026</th>\n",
       "      <td>7.376728e+17</td>\n",
       "      <td>7.313946e+17</td>\n",
       "    </tr>\n",
       "  </tbody>\n",
       "</table>\n",
       "<p>20497 rows × 2 columns</p>\n",
       "</div>"
      ],
      "text/plain": [
       "       user_id_retweet_df  user_id_tweet_df\n",
       "4125         8.856920e+17      3.974499e+07\n",
       "4161         1.917218e+09      8.277065e+07\n",
       "4235         2.559283e+08      2.147477e+07\n",
       "4329         8.222716e+17      8.247972e+17\n",
       "4379         1.759702e+07      1.109180e+08\n",
       "...                   ...               ...\n",
       "89022        1.496571e+09      7.960258e+17\n",
       "89023        9.816488e+08      7.848257e+17\n",
       "89024        7.200451e+08      2.435832e+07\n",
       "89025        8.990504e+08      1.342402e+08\n",
       "89026        7.376728e+17      7.313946e+17\n",
       "\n",
       "[20497 rows x 2 columns]"
      ]
     },
     "execution_count": 6,
     "metadata": {},
     "output_type": "execute_result"
    }
   ],
   "source": [
    "df_net_fake"
   ]
  },
  {
   "cell_type": "code",
   "execution_count": 7,
   "id": "6a5e889b",
   "metadata": {},
   "outputs": [
    {
     "data": {
      "text/html": [
       "<div>\n",
       "<style scoped>\n",
       "    .dataframe tbody tr th:only-of-type {\n",
       "        vertical-align: middle;\n",
       "    }\n",
       "\n",
       "    .dataframe tbody tr th {\n",
       "        vertical-align: top;\n",
       "    }\n",
       "\n",
       "    .dataframe thead th {\n",
       "        text-align: right;\n",
       "    }\n",
       "</style>\n",
       "<table border=\"1\" class=\"dataframe\">\n",
       "  <thead>\n",
       "    <tr style=\"text-align: right;\">\n",
       "      <th></th>\n",
       "      <th>user_id_retweet_df</th>\n",
       "      <th>user_id_tweet_df</th>\n",
       "    </tr>\n",
       "  </thead>\n",
       "  <tbody>\n",
       "    <tr>\n",
       "      <th>0</th>\n",
       "      <td>7.873112e+08</td>\n",
       "      <td>43350851.0</td>\n",
       "    </tr>\n",
       "    <tr>\n",
       "      <th>1</th>\n",
       "      <td>7.873112e+08</td>\n",
       "      <td>43350851.0</td>\n",
       "    </tr>\n",
       "    <tr>\n",
       "      <th>2</th>\n",
       "      <td>3.338247e+09</td>\n",
       "      <td>16297707.0</td>\n",
       "    </tr>\n",
       "    <tr>\n",
       "      <th>3</th>\n",
       "      <td>3.338247e+09</td>\n",
       "      <td>16297707.0</td>\n",
       "    </tr>\n",
       "    <tr>\n",
       "      <th>4</th>\n",
       "      <td>7.543102e+17</td>\n",
       "      <td>5820642.0</td>\n",
       "    </tr>\n",
       "    <tr>\n",
       "      <th>...</th>\n",
       "      <td>...</td>\n",
       "      <td>...</td>\n",
       "    </tr>\n",
       "    <tr>\n",
       "      <th>68198</th>\n",
       "      <td>2.163463e+07</td>\n",
       "      <td>860585294.0</td>\n",
       "    </tr>\n",
       "    <tr>\n",
       "      <th>68199</th>\n",
       "      <td>3.227421e+07</td>\n",
       "      <td>48608766.0</td>\n",
       "    </tr>\n",
       "    <tr>\n",
       "      <th>68200</th>\n",
       "      <td>8.013800e+05</td>\n",
       "      <td>18251414.0</td>\n",
       "    </tr>\n",
       "    <tr>\n",
       "      <th>68201</th>\n",
       "      <td>2.404211e+08</td>\n",
       "      <td>18251414.0</td>\n",
       "    </tr>\n",
       "    <tr>\n",
       "      <th>68202</th>\n",
       "      <td>1.348708e+08</td>\n",
       "      <td>18251414.0</td>\n",
       "    </tr>\n",
       "  </tbody>\n",
       "</table>\n",
       "<p>66121 rows × 2 columns</p>\n",
       "</div>"
      ],
      "text/plain": [
       "       user_id_retweet_df  user_id_tweet_df\n",
       "0            7.873112e+08        43350851.0\n",
       "1            7.873112e+08        43350851.0\n",
       "2            3.338247e+09        16297707.0\n",
       "3            3.338247e+09        16297707.0\n",
       "4            7.543102e+17         5820642.0\n",
       "...                   ...               ...\n",
       "68198        2.163463e+07       860585294.0\n",
       "68199        3.227421e+07        48608766.0\n",
       "68200        8.013800e+05        18251414.0\n",
       "68201        2.404211e+08        18251414.0\n",
       "68202        1.348708e+08        18251414.0\n",
       "\n",
       "[66121 rows x 2 columns]"
      ]
     },
     "execution_count": 7,
     "metadata": {},
     "output_type": "execute_result"
    }
   ],
   "source": [
    "df_net_real"
   ]
  },
  {
   "cell_type": "markdown",
   "id": "b79a6374",
   "metadata": {},
   "source": [
    "### Graph Creation and metrics"
   ]
  },
  {
   "cell_type": "code",
   "execution_count": 8,
   "id": "50fa6046",
   "metadata": {},
   "outputs": [],
   "source": [
    "g_all = ig.Graph.TupleList(df_net_all.itertuples(index=False), directed=True)"
   ]
  },
  {
   "cell_type": "code",
   "execution_count": 9,
   "id": "8584baa8",
   "metadata": {},
   "outputs": [],
   "source": [
    "g_real = ig.Graph.TupleList(df_net_real.itertuples(index=False), directed=True)"
   ]
  },
  {
   "cell_type": "code",
   "execution_count": 10,
   "id": "2c186af9",
   "metadata": {},
   "outputs": [],
   "source": [
    "g_fake = ig.Graph.TupleList(df_net_fake.itertuples(index=False), directed=True)"
   ]
  },
  {
   "cell_type": "code",
   "execution_count": 11,
   "id": "390c6064",
   "metadata": {},
   "outputs": [
    {
     "name": "stdout",
     "output_type": "stream",
     "text": [
      "diameter for all news retweet network:  9\n",
      "diameter for real news retweet network:  9\n",
      "diameter for fake news retweet network:  5\n"
     ]
    }
   ],
   "source": [
    "print('diameter for all news retweet network: ',g_all.diameter())\n",
    "print('diameter for real news retweet network: ',g_real.diameter())\n",
    "print('diameter for fake news retweet network: ',g_fake.diameter())"
   ]
  },
  {
   "cell_type": "code",
   "execution_count": 12,
   "id": "95755d8e",
   "metadata": {},
   "outputs": [
    {
     "name": "stdout",
     "output_type": "stream",
     "text": [
      "clustering coefficient for all news retweet network:  0.0005758266101118929\n",
      "clustering coefficient for real news retweet network:  0.0005978739601975375\n",
      "clustering coeffiencent for fake news retweet network:  0.000514478906364839\n"
     ]
    }
   ],
   "source": [
    "print('clustering coefficient for all news retweet network: ',g_all.transitivity_undirected())\n",
    "print('clustering coefficient for real news retweet network: ',g_real.transitivity_undirected())\n",
    "print('clustering coeffiencent for fake news retweet network: ',g_fake.transitivity_undirected())"
   ]
  },
  {
   "cell_type": "code",
   "execution_count": 13,
   "id": "ad519366",
   "metadata": {},
   "outputs": [
    {
     "name": "stdout",
     "output_type": "stream",
     "text": [
      "average degree for all news retweet network:  1.4620799081748055\n",
      "average degree for real news retweet network:  1.4227065873417177\n",
      "average degree for fake news retweet network:  1.3010251039385572\n"
     ]
    }
   ],
   "source": [
    "print('average degree for all news retweet network: ',np.mean(g_all.degree()))\n",
    "print('average degree for real news retweet network: ', np.mean(g_real.degree()))\n",
    "print('average degree for fake news retweet network: ',np.mean(g_fake.degree()))"
   ]
  },
  {
   "cell_type": "code",
   "execution_count": 14,
   "id": "a8c7c09e",
   "metadata": {},
   "outputs": [
    {
     "data": {
      "text/html": [
       "<div>\n",
       "<style scoped>\n",
       "    .dataframe tbody tr th:only-of-type {\n",
       "        vertical-align: middle;\n",
       "    }\n",
       "\n",
       "    .dataframe tbody tr th {\n",
       "        vertical-align: top;\n",
       "    }\n",
       "\n",
       "    .dataframe thead th {\n",
       "        text-align: right;\n",
       "    }\n",
       "</style>\n",
       "<table border=\"1\" class=\"dataframe\">\n",
       "  <thead>\n",
       "    <tr style=\"text-align: right;\">\n",
       "      <th></th>\n",
       "      <th>name</th>\n",
       "      <th>degree</th>\n",
       "    </tr>\n",
       "  </thead>\n",
       "  <tbody>\n",
       "    <tr>\n",
       "      <th>0</th>\n",
       "      <td>1.911303e+09</td>\n",
       "      <td>153</td>\n",
       "    </tr>\n",
       "    <tr>\n",
       "      <th>1</th>\n",
       "      <td>2.103257e+07</td>\n",
       "      <td>119</td>\n",
       "    </tr>\n",
       "    <tr>\n",
       "      <th>2</th>\n",
       "      <td>2.246538e+08</td>\n",
       "      <td>83</td>\n",
       "    </tr>\n",
       "    <tr>\n",
       "      <th>3</th>\n",
       "      <td>2.417844e+09</td>\n",
       "      <td>56</td>\n",
       "    </tr>\n",
       "    <tr>\n",
       "      <th>4</th>\n",
       "      <td>1.429485e+07</td>\n",
       "      <td>50</td>\n",
       "    </tr>\n",
       "    <tr>\n",
       "      <th>5</th>\n",
       "      <td>2.767681e+09</td>\n",
       "      <td>44</td>\n",
       "    </tr>\n",
       "    <tr>\n",
       "      <th>6</th>\n",
       "      <td>1.355218e+09</td>\n",
       "      <td>42</td>\n",
       "    </tr>\n",
       "    <tr>\n",
       "      <th>7</th>\n",
       "      <td>8.953122e+06</td>\n",
       "      <td>38</td>\n",
       "    </tr>\n",
       "    <tr>\n",
       "      <th>8</th>\n",
       "      <td>2.309297e+09</td>\n",
       "      <td>37</td>\n",
       "    </tr>\n",
       "    <tr>\n",
       "      <th>9</th>\n",
       "      <td>5.257272e+07</td>\n",
       "      <td>33</td>\n",
       "    </tr>\n",
       "  </tbody>\n",
       "</table>\n",
       "</div>"
      ],
      "text/plain": [
       "           name  degree\n",
       "0  1.911303e+09     153\n",
       "1  2.103257e+07     119\n",
       "2  2.246538e+08      83\n",
       "3  2.417844e+09      56\n",
       "4  1.429485e+07      50\n",
       "5  2.767681e+09      44\n",
       "6  1.355218e+09      42\n",
       "7  8.953122e+06      38\n",
       "8  2.309297e+09      37\n",
       "9  5.257272e+07      33"
      ]
     },
     "execution_count": 14,
     "metadata": {},
     "output_type": "execute_result"
    }
   ],
   "source": [
    "df_fake_degree = pd.DataFrame({'name': list(g_fake.vs['name']), 'degree':g_fake.degree() } )\n",
    "df_fake_degree = df_fake_degree.sort_values('degree', ascending = False).reset_index(drop = True)\n",
    "df_fake_degree.head(10)"
   ]
  },
  {
   "cell_type": "markdown",
   "id": "1add9d81",
   "metadata": {},
   "source": [
    "## Leading Eigenvector Community Detection"
   ]
  },
  {
   "cell_type": "code",
   "execution_count": 14,
   "id": "3038fe15",
   "metadata": {},
   "outputs": [
    {
     "name": "stderr",
     "output_type": "stream",
     "text": [
      "/Users/susankoruthu/opt/anaconda3/lib/python3.8/site-packages/igraph/__init__.py:1281: RuntimeWarning: This method was developed for undirected graphs at src/community/leading_eigenvector.c:530\n",
      "  membership, _, q = GraphBase.community_leading_eigenvector(\n"
     ]
    }
   ],
   "source": [
    "comm_leading_eigenvector= g_fake.community_leading_eigenvector()"
   ]
  },
  {
   "cell_type": "code",
   "execution_count": 15,
   "id": "d94f9222",
   "metadata": {},
   "outputs": [
    {
     "data": {
      "text/html": [
       "<div>\n",
       "<style scoped>\n",
       "    .dataframe tbody tr th:only-of-type {\n",
       "        vertical-align: middle;\n",
       "    }\n",
       "\n",
       "    .dataframe tbody tr th {\n",
       "        vertical-align: top;\n",
       "    }\n",
       "\n",
       "    .dataframe thead th {\n",
       "        text-align: right;\n",
       "    }\n",
       "</style>\n",
       "<table border=\"1\" class=\"dataframe\">\n",
       "  <thead>\n",
       "    <tr style=\"text-align: right;\">\n",
       "      <th></th>\n",
       "      <th>name</th>\n",
       "      <th>community</th>\n",
       "    </tr>\n",
       "  </thead>\n",
       "  <tbody>\n",
       "    <tr>\n",
       "      <th>0</th>\n",
       "      <td>8.856920e+17</td>\n",
       "      <td>0</td>\n",
       "    </tr>\n",
       "    <tr>\n",
       "      <th>1</th>\n",
       "      <td>3.974499e+07</td>\n",
       "      <td>0</td>\n",
       "    </tr>\n",
       "    <tr>\n",
       "      <th>2</th>\n",
       "      <td>1.917218e+09</td>\n",
       "      <td>1</td>\n",
       "    </tr>\n",
       "    <tr>\n",
       "      <th>3</th>\n",
       "      <td>8.277065e+07</td>\n",
       "      <td>1</td>\n",
       "    </tr>\n",
       "    <tr>\n",
       "      <th>4</th>\n",
       "      <td>2.559283e+08</td>\n",
       "      <td>2</td>\n",
       "    </tr>\n",
       "    <tr>\n",
       "      <th>...</th>\n",
       "      <td>...</td>\n",
       "      <td>...</td>\n",
       "    </tr>\n",
       "    <tr>\n",
       "      <th>31504</th>\n",
       "      <td>3.995662e+09</td>\n",
       "      <td>1339</td>\n",
       "    </tr>\n",
       "    <tr>\n",
       "      <th>31505</th>\n",
       "      <td>6.957517e+17</td>\n",
       "      <td>11622</td>\n",
       "    </tr>\n",
       "    <tr>\n",
       "      <th>31506</th>\n",
       "      <td>9.816488e+08</td>\n",
       "      <td>8781</td>\n",
       "    </tr>\n",
       "    <tr>\n",
       "      <th>31507</th>\n",
       "      <td>7.200451e+08</td>\n",
       "      <td>10428</td>\n",
       "    </tr>\n",
       "    <tr>\n",
       "      <th>31508</th>\n",
       "      <td>8.990504e+08</td>\n",
       "      <td>11628</td>\n",
       "    </tr>\n",
       "  </tbody>\n",
       "</table>\n",
       "<p>31509 rows × 2 columns</p>\n",
       "</div>"
      ],
      "text/plain": [
       "               name  community\n",
       "0      8.856920e+17          0\n",
       "1      3.974499e+07          0\n",
       "2      1.917218e+09          1\n",
       "3      8.277065e+07          1\n",
       "4      2.559283e+08          2\n",
       "...             ...        ...\n",
       "31504  3.995662e+09       1339\n",
       "31505  6.957517e+17      11622\n",
       "31506  9.816488e+08       8781\n",
       "31507  7.200451e+08      10428\n",
       "31508  8.990504e+08      11628\n",
       "\n",
       "[31509 rows x 2 columns]"
      ]
     },
     "execution_count": 15,
     "metadata": {},
     "output_type": "execute_result"
    }
   ],
   "source": [
    "df_leading_eigenvector = pd.DataFrame({'name': list(g_fake.vs['name']), 'community':comm_leading_eigenvector.membership } )\n",
    "df_leading_eigenvector"
   ]
  },
  {
   "cell_type": "code",
   "execution_count": 16,
   "id": "161c1587",
   "metadata": {},
   "outputs": [
    {
     "data": {
      "text/plain": [
       "11642    386\n",
       "11622    287\n",
       "214      203\n",
       "11627    198\n",
       "11641    163\n",
       "        ... \n",
       "4476       2\n",
       "4477       2\n",
       "4478       2\n",
       "4479       2\n",
       "11614      2\n",
       "Name: community, Length: 11647, dtype: int64"
      ]
     },
     "execution_count": 16,
     "metadata": {},
     "output_type": "execute_result"
    }
   ],
   "source": [
    "df_leading_eigenvector['community'].value_counts()"
   ]
  },
  {
   "cell_type": "code",
   "execution_count": 17,
   "id": "3d3f5ae8",
   "metadata": {},
   "outputs": [
    {
     "data": {
      "text/plain": [
       "3"
      ]
     },
     "execution_count": 17,
     "metadata": {},
     "output_type": "execute_result"
    }
   ],
   "source": [
    "comm_leading_eigenvector.subgraphs()[11642].diameter()"
   ]
  },
  {
   "cell_type": "code",
   "execution_count": 18,
   "id": "9b23e639",
   "metadata": {},
   "outputs": [
    {
     "name": "stdout",
     "output_type": "stream",
     "text": [
      "0.9946281435098392\n"
     ]
    }
   ],
   "source": [
    "modularity = g_fake.modularity(comm_leading_eigenvector)\n",
    "print(modularity)"
   ]
  },
  {
   "cell_type": "code",
   "execution_count": 19,
   "id": "8df0810e",
   "metadata": {},
   "outputs": [
    {
     "data": {
      "text/html": [
       "<div>\n",
       "<style scoped>\n",
       "    .dataframe tbody tr th:only-of-type {\n",
       "        vertical-align: middle;\n",
       "    }\n",
       "\n",
       "    .dataframe tbody tr th {\n",
       "        vertical-align: top;\n",
       "    }\n",
       "\n",
       "    .dataframe thead th {\n",
       "        text-align: right;\n",
       "    }\n",
       "</style>\n",
       "<table border=\"1\" class=\"dataframe\">\n",
       "  <thead>\n",
       "    <tr style=\"text-align: right;\">\n",
       "      <th></th>\n",
       "      <th>name</th>\n",
       "      <th>community</th>\n",
       "    </tr>\n",
       "  </thead>\n",
       "  <tbody>\n",
       "    <tr>\n",
       "      <th>count</th>\n",
       "      <td>3.150900e+04</td>\n",
       "      <td>31509.000000</td>\n",
       "    </tr>\n",
       "    <tr>\n",
       "      <th>mean</th>\n",
       "      <td>2.187160e+17</td>\n",
       "      <td>5893.927989</td>\n",
       "    </tr>\n",
       "    <tr>\n",
       "      <th>std</th>\n",
       "      <td>3.747241e+17</td>\n",
       "      <td>3769.656414</td>\n",
       "    </tr>\n",
       "    <tr>\n",
       "      <th>min</th>\n",
       "      <td>7.670000e+02</td>\n",
       "      <td>0.000000</td>\n",
       "    </tr>\n",
       "    <tr>\n",
       "      <th>25%</th>\n",
       "      <td>1.801512e+08</td>\n",
       "      <td>2414.000000</td>\n",
       "    </tr>\n",
       "    <tr>\n",
       "      <th>50%</th>\n",
       "      <td>1.220386e+09</td>\n",
       "      <td>5757.000000</td>\n",
       "    </tr>\n",
       "    <tr>\n",
       "      <th>75%</th>\n",
       "      <td>7.065833e+17</td>\n",
       "      <td>9258.000000</td>\n",
       "    </tr>\n",
       "    <tr>\n",
       "      <th>max</th>\n",
       "      <td>1.074002e+18</td>\n",
       "      <td>11646.000000</td>\n",
       "    </tr>\n",
       "  </tbody>\n",
       "</table>\n",
       "</div>"
      ],
      "text/plain": [
       "               name     community\n",
       "count  3.150900e+04  31509.000000\n",
       "mean   2.187160e+17   5893.927989\n",
       "std    3.747241e+17   3769.656414\n",
       "min    7.670000e+02      0.000000\n",
       "25%    1.801512e+08   2414.000000\n",
       "50%    1.220386e+09   5757.000000\n",
       "75%    7.065833e+17   9258.000000\n",
       "max    1.074002e+18  11646.000000"
      ]
     },
     "execution_count": 19,
     "metadata": {},
     "output_type": "execute_result"
    }
   ],
   "source": [
    "df_leading_eigenvector.describe()"
   ]
  },
  {
   "cell_type": "code",
   "execution_count": 29,
   "id": "e9673095",
   "metadata": {},
   "outputs": [
    {
     "data": {
      "text/plain": [
       "community    107.062\n",
       "Name: 0.999, dtype: float64"
      ]
     },
     "execution_count": 29,
     "metadata": {},
     "output_type": "execute_result"
    }
   ],
   "source": [
    "pd.DataFrame(df_leading_eigenvector['community'].value_counts()).quantile(0.999)"
   ]
  },
  {
   "cell_type": "markdown",
   "id": "55793f3a",
   "metadata": {},
   "source": [
    "## Prepare Data for Graphframes and Robustness Disruption"
   ]
  },
  {
   "cell_type": "code",
   "execution_count": null,
   "id": "078e2e5b",
   "metadata": {},
   "outputs": [],
   "source": [
    "df_le_com1 = df_leading_eigenvector[df_leading_eigenvector['community']==11642]\n",
    "df_le_com1 "
   ]
  },
  {
   "cell_type": "code",
   "execution_count": null,
   "id": "cb8bce09",
   "metadata": {},
   "outputs": [],
   "source": [
    "le_com1_list = df_le_com1['name'].tolist()"
   ]
  },
  {
   "cell_type": "code",
   "execution_count": null,
   "id": "6b6023a3",
   "metadata": {},
   "outputs": [],
   "source": [
    "df_fake_com1 = df_net_fake[df_net_fake['user_id_retweet_df'].isin(le_com1_list)]\n",
    "df_fake_com1 = df_fake_com1[df_fake_com1['user_id_tweet_df'].isin(le_com1_list)]\n",
    "df_fake_com1"
   ]
  },
  {
   "cell_type": "code",
   "execution_count": null,
   "id": "44507af2",
   "metadata": {},
   "outputs": [],
   "source": [
    "com1_node_list = list(set(df_fake_com1['user_id_retweet_df'].tolist() + df_fake_com1['user_id_tweet_df'].tolist()))\n",
    "\n",
    "com1_nodes_df = pd.DataFrame({'id':com1_node_list, 'node':com1_node_list})\n",
    "com1_nodes_df"
   ]
  },
  {
   "cell_type": "code",
   "execution_count": null,
   "id": "be513362",
   "metadata": {},
   "outputs": [],
   "source": [
    "df_fake_com1 = df_fake_com1.rename(columns = {'user_id_retweet_df':'dst', 'user_id_tweet_df':'src'})\n",
    "df_fake_com1 = df_fake_com1[['src','dst']]\n",
    "df_fake_com1"
   ]
  },
  {
   "cell_type": "code",
   "execution_count": null,
   "id": "e689232f",
   "metadata": {},
   "outputs": [],
   "source": [
    "g_com1 = ig.Graph.TupleList(df_fake_com1.itertuples(index=False), directed=True)\n",
    "\n",
    "ig.plot(g_com1)"
   ]
  },
  {
   "cell_type": "code",
   "execution_count": null,
   "id": "47f25fc1",
   "metadata": {},
   "outputs": [],
   "source": [
    "tweet_retweet_metrics = pd.read_csv('tweet_retweet_counts.csv')\n",
    "tweet_retweet_metrics"
   ]
  },
  {
   "cell_type": "code",
   "execution_count": null,
   "id": "92a190cc",
   "metadata": {},
   "outputs": [],
   "source": [
    "com1_metrics = pd.merge(com1_nodes_df,tweet_retweet_metrics[['user_id','percentage_fake','tweet_retweet_fake_count']], left_on = 'node', right_on = 'user_id', how = 'left')\n",
    "com1_metrics = com1_metrics.sort_values(['percentage_fake', 'tweet_retweet_fake_count'], ascending = False).drop(['user_id', 'percentage_fake','tweet_retweet_fake_count'], axis = 1).reset_index(drop=True)\n",
    "com1_metrics"
   ]
  },
  {
   "cell_type": "code",
   "execution_count": null,
   "id": "37dcac10",
   "metadata": {},
   "outputs": [],
   "source": [
    "com1_nodes = com1_metrics\n",
    "#com1_nodes.to_csv('le_com1_nodes.csv', index = False)\n",
    "#df_fake_com1.to_csv('le_com1_edges.csv', index = False)"
   ]
  },
  {
   "cell_type": "markdown",
   "id": "349ae9da",
   "metadata": {},
   "source": [
    "### Community 2"
   ]
  },
  {
   "cell_type": "code",
   "execution_count": null,
   "id": "97d80048",
   "metadata": {},
   "outputs": [],
   "source": [
    "df_le_com2 = df_leading_eigenvector[df_leading_eigenvector['community']==11622]\n",
    "df_le_com2 "
   ]
  },
  {
   "cell_type": "code",
   "execution_count": null,
   "id": "d46fd781",
   "metadata": {},
   "outputs": [],
   "source": [
    "le_com2_list = df_le_com2['name'].tolist()"
   ]
  },
  {
   "cell_type": "code",
   "execution_count": null,
   "id": "f91fe21e",
   "metadata": {},
   "outputs": [],
   "source": [
    "df_fake_com2 = df_net_fake[df_net_fake['user_id_retweet_df'].isin(le_com2_list)]\n",
    "df_fake_com2 = df_fake_com2[df_fake_com2['user_id_tweet_df'].isin(le_com2_list)]\n",
    "df_fake_com2"
   ]
  },
  {
   "cell_type": "code",
   "execution_count": null,
   "id": "5b55848d",
   "metadata": {},
   "outputs": [],
   "source": [
    "com2_node_list = list(set(df_fake_com2['user_id_retweet_df'].tolist() + df_fake_com2['user_id_tweet_df'].tolist()))\n",
    "\n",
    "com2_nodes_df = pd.DataFrame({'id':com2_node_list, 'node':com2_node_list})\n",
    "com2_nodes_df"
   ]
  },
  {
   "cell_type": "code",
   "execution_count": null,
   "id": "39626f5f",
   "metadata": {},
   "outputs": [],
   "source": [
    "df_fake_com2 = df_fake_com2.rename(columns = {'user_id_retweet_df':'dst', 'user_id_tweet_df':'src'})\n",
    "df_fake_com2 = df_fake_com2[['src','dst']]\n",
    "df_fake_com2"
   ]
  },
  {
   "cell_type": "code",
   "execution_count": null,
   "id": "d5e18eb1",
   "metadata": {},
   "outputs": [],
   "source": [
    "g_com2 = ig.Graph.TupleList(df_fake_com2.itertuples(index=False), directed=True)\n",
    "\n",
    "ig.plot(g_com2)"
   ]
  },
  {
   "cell_type": "code",
   "execution_count": null,
   "id": "860e3d28",
   "metadata": {},
   "outputs": [],
   "source": [
    "#com2_nodes_df.to_csv('le_com2_nodes.csv', index = False)\n",
    "#df_fake_com2.to_csv('le_com2_edges.csv', index = False)"
   ]
  },
  {
   "cell_type": "markdown",
   "id": "96afef8a",
   "metadata": {},
   "source": [
    "## Community 3"
   ]
  },
  {
   "cell_type": "code",
   "execution_count": null,
   "id": "4e7b0671",
   "metadata": {},
   "outputs": [],
   "source": [
    "df_le_com3 = df_leading_eigenvector[df_leading_eigenvector['community']==214]\n",
    "df_le_com3 "
   ]
  },
  {
   "cell_type": "code",
   "execution_count": null,
   "id": "c77f260e",
   "metadata": {},
   "outputs": [],
   "source": [
    "le_com3_list = df_le_com3['name'].tolist()"
   ]
  },
  {
   "cell_type": "code",
   "execution_count": null,
   "id": "4527aecd",
   "metadata": {},
   "outputs": [],
   "source": [
    "df_fake_com3 = df_net_fake[df_net_fake['user_id_retweet_df'].isin(le_com3_list)]\n",
    "df_fake_com3 = df_fake_com3[df_fake_com3['user_id_tweet_df'].isin(le_com3_list)]\n",
    "df_fake_com3"
   ]
  },
  {
   "cell_type": "code",
   "execution_count": null,
   "id": "1d095697",
   "metadata": {},
   "outputs": [],
   "source": [
    "com3_node_list = list(set(df_fake_com3['user_id_retweet_df'].tolist() + df_fake_com3['user_id_tweet_df'].tolist()))\n",
    "\n",
    "com3_nodes_df = pd.DataFrame({'id':com3_node_list, 'node':com3_node_list})\n",
    "com3_nodes_df"
   ]
  },
  {
   "cell_type": "code",
   "execution_count": null,
   "id": "2ca29cdc",
   "metadata": {},
   "outputs": [],
   "source": [
    "df_fake_com3 = df_fake_com3.rename(columns = {'user_id_retweet_df':'dst', 'user_id_tweet_df':'src'})\n",
    "df_fake_com3 = df_fake_com3[['src','dst']]\n",
    "df_fake_com3"
   ]
  },
  {
   "cell_type": "code",
   "execution_count": null,
   "id": "0e15646f",
   "metadata": {},
   "outputs": [],
   "source": [
    "g_com3 = ig.Graph.TupleList(df_fake_com3.itertuples(index=False), directed=True)\n",
    "ig.plot(g_com3)"
   ]
  },
  {
   "cell_type": "code",
   "execution_count": null,
   "id": "e19b9e07",
   "metadata": {},
   "outputs": [],
   "source": [
    "#com3_nodes_df.to_csv('le_com3_nodes.csv', index = False)\n",
    "#df_fake_com3.to_csv('le_com3_edges.csv', index = False)"
   ]
  },
  {
   "cell_type": "markdown",
   "id": "3b8999f3",
   "metadata": {},
   "source": [
    "### Community 4"
   ]
  },
  {
   "cell_type": "code",
   "execution_count": null,
   "id": "d6f15f0a",
   "metadata": {},
   "outputs": [],
   "source": [
    "df_le_com4 = df_leading_eigenvector[df_leading_eigenvector['community']==11627]\n",
    "df_le_com4 "
   ]
  },
  {
   "cell_type": "code",
   "execution_count": null,
   "id": "fceae3ad",
   "metadata": {},
   "outputs": [],
   "source": [
    "le_com4_list = df_le_com4['name'].tolist()"
   ]
  },
  {
   "cell_type": "code",
   "execution_count": null,
   "id": "ed19848f",
   "metadata": {},
   "outputs": [],
   "source": [
    "df_fake_com4 = df_net_fake[df_net_fake['user_id_retweet_df'].isin(le_com4_list)]\n",
    "df_fake_com4 = df_fake_com4[df_fake_com4['user_id_tweet_df'].isin(le_com4_list)]\n",
    "df_fake_com4"
   ]
  },
  {
   "cell_type": "code",
   "execution_count": null,
   "id": "bd6f41a6",
   "metadata": {},
   "outputs": [],
   "source": [
    "com4_node_list = list(set(df_fake_com4['user_id_retweet_df'].tolist() + df_fake_com4['user_id_tweet_df'].tolist()))\n",
    "\n",
    "com4_nodes_df = pd.DataFrame({'id':com4_node_list, 'node':com4_node_list})\n",
    "com4_nodes_df"
   ]
  },
  {
   "cell_type": "code",
   "execution_count": null,
   "id": "c209ee6d",
   "metadata": {},
   "outputs": [],
   "source": [
    "df_fake_com4 = df_fake_com4.rename(columns = {'user_id_retweet_df':'dst', 'user_id_tweet_df':'src'})\n",
    "df_fake_com4 = df_fake_com4[['src','dst']]\n",
    "df_fake_com4"
   ]
  },
  {
   "cell_type": "code",
   "execution_count": null,
   "id": "e0a6835c",
   "metadata": {},
   "outputs": [],
   "source": [
    "g_com4 = ig.Graph.TupleList(df_fake_com4.itertuples(index=False), directed=True)\n",
    "ig.plot(g_com4)"
   ]
  },
  {
   "cell_type": "code",
   "execution_count": null,
   "id": "4da5cd4f",
   "metadata": {},
   "outputs": [],
   "source": [
    "#com4_nodes_df.to_csv('le_com4_nodes.csv', index = False)\n",
    "#df_fake_com4.to_csv('le_com4_edges.csv', index = False)"
   ]
  },
  {
   "cell_type": "markdown",
   "id": "0e812101",
   "metadata": {},
   "source": [
    "### Community 5"
   ]
  },
  {
   "cell_type": "code",
   "execution_count": null,
   "id": "564d2f0c",
   "metadata": {},
   "outputs": [],
   "source": [
    "df_le_com5 = df_leading_eigenvector[df_leading_eigenvector['community']==11641]\n",
    "df_le_com5 "
   ]
  },
  {
   "cell_type": "code",
   "execution_count": null,
   "id": "35fca101",
   "metadata": {},
   "outputs": [],
   "source": [
    "le_com5_list = df_le_com5['name'].tolist()"
   ]
  },
  {
   "cell_type": "code",
   "execution_count": null,
   "id": "d8a0fc26",
   "metadata": {},
   "outputs": [],
   "source": [
    "df_fake_com5 = df_net_fake[df_net_fake['user_id_retweet_df'].isin(le_com5_list)]\n",
    "df_fake_com5 = df_fake_com5[df_fake_com5['user_id_tweet_df'].isin(le_com5_list)]\n",
    "df_fake_com5"
   ]
  },
  {
   "cell_type": "code",
   "execution_count": null,
   "id": "d33b0ba7",
   "metadata": {},
   "outputs": [],
   "source": [
    "com5_node_list = list(set(df_fake_com5['user_id_retweet_df'].tolist() + df_fake_com5['user_id_tweet_df'].tolist()))\n",
    "\n",
    "com5_nodes_df = pd.DataFrame({'id':com5_node_list, 'node':com5_node_list})\n",
    "com5_nodes_df"
   ]
  },
  {
   "cell_type": "code",
   "execution_count": null,
   "id": "32dfff0e",
   "metadata": {},
   "outputs": [],
   "source": [
    "df_fake_com5 = df_fake_com5.rename(columns = {'user_id_retweet_df':'dst', 'user_id_tweet_df':'src'})\n",
    "df_fake_com5 = df_fake_com5[['src','dst']]\n",
    "df_fake_com5"
   ]
  },
  {
   "cell_type": "code",
   "execution_count": null,
   "id": "7b30cf8b",
   "metadata": {},
   "outputs": [],
   "source": [
    "g_com5 = ig.Graph.TupleList(df_fake_com5.itertuples(index=False), directed=True)\n",
    "ig.plot(g_com5)"
   ]
  },
  {
   "cell_type": "code",
   "execution_count": null,
   "id": "e2a5f744",
   "metadata": {},
   "outputs": [],
   "source": [
    "#com5_nodes_df.to_csv('le_com5_nodes.csv', index = False)\n",
    "#df_fake_com5.to_csv('le_com5_edges.csv', index = False)"
   ]
  }
 ],
 "metadata": {
  "kernelspec": {
   "display_name": "Python 3 (ipykernel)",
   "language": "python",
   "name": "python3"
  },
  "language_info": {
   "codemirror_mode": {
    "name": "ipython",
    "version": 3
   },
   "file_extension": ".py",
   "mimetype": "text/x-python",
   "name": "python",
   "nbconvert_exporter": "python",
   "pygments_lexer": "ipython3",
   "version": "3.8.8"
  }
 },
 "nbformat": 4,
 "nbformat_minor": 5
}
